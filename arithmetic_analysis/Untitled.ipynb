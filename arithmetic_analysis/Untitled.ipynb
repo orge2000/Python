{
 "cells": [
  {
   "cell_type": "code",
   "execution_count": 1,
   "metadata": {},
   "outputs": [],
   "source": [
    "import math\n",
    "from typing import Callable\n",
    "\n",
    "\n",
    "def intersection(function: Callable[[float], float], x0: float, x1: float) -> float:\n",
    "    \"\"\"\n",
    "    function is the f we want to find its root\n",
    "    x0 and x1 are two random starting points\n",
    "    >>> intersection(lambda x: x ** 3 - 1, -5, 5)\n",
    "    0.9999999999954654\n",
    "    >>> intersection(lambda x: x ** 3 - 1, 5, 5)\n",
    "    Traceback (most recent call last):\n",
    "    ...\n",
    "    ZeroDivisionError: float division by zero, could not find root\n",
    "    >>> intersection(lambda x: x ** 3 - 1, 100, 200)\n",
    "    1.0000000000003888\n",
    "    >>> intersection(lambda x: x ** 2 - 4 * x + 3, 0, 2)\n",
    "    0.9999999998088019\n",
    "    >>> intersection(lambda x: x ** 2 - 4 * x + 3, 2, 4)\n",
    "    2.9999999998088023\n",
    "    >>> intersection(lambda x: x ** 2 - 4 * x + 3, 4, 1000)\n",
    "    3.0000000001786042\n",
    "    >>> intersection(math.sin, -math.pi, math.pi)\n",
    "    0.0\n",
    "    >>> intersection(math.cos, -math.pi, math.pi)\n",
    "    Traceback (most recent call last):\n",
    "    ...\n",
    "    ZeroDivisionError: float division by zero, could not find root\n",
    "    \"\"\"\n",
    "    x_n: float = x0\n",
    "    x_n1: float = x1\n",
    "    while True:\n",
    "        if x_n == x_n1 or function(x_n1) == function(x_n):\n",
    "            raise ZeroDivisionError(\"float division by zero, could not find root\")\n",
    "        x_n2: float = x_n1 - (\n",
    "            function(x_n1) / ((function(x_n1) - function(x_n)) / (x_n1 - x_n))\n",
    "        )\n",
    "        if abs(x_n2 - x_n1) < 10 ** -5:\n",
    "            return x_n2\n",
    "        x_n = x_n1\n",
    "        x_n1 = x_n2\n",
    "\n",
    "\n",
    "def f(x: float) -> float:\n",
    "    return math.pow(x, 3) - (2 * x) - 5\n",
    "\n",
    "\n",
    "if __name__ == \"__main__\":\n",
    "    print(intersection(f, 3, 3.5))\n",
    "\n"
   ]
  },
  {
   "cell_type": "code",
   "execution_count": null,
   "metadata": {},
   "outputs": [],
   "source": []
  },
  {
   "cell_type": "code",
   "execution_count": 4,
   "metadata": {},
   "outputs": [
    {
     "name": "stdin",
     "output_type": "stream",
     "text": [
      "enter the numbers of values:  3\n"
     ]
    },
    {
     "name": "stdout",
     "output_type": "stream",
     "text": [
      "enter the values of parameters in a list: \n"
     ]
    },
    {
     "name": "stdin",
     "output_type": "stream",
     "text": [
      " 3\n"
     ]
    },
    {
     "name": "stdout",
     "output_type": "stream",
     "text": [
      "enter the values of corresponding parameters: \n"
     ]
    },
    {
     "name": "stdin",
     "output_type": "stream",
     "text": [
      " 3\n",
      " \n"
     ]
    },
    {
     "ename": "ValueError",
     "evalue": "could not convert string to float: ''",
     "output_type": "error",
     "traceback": [
      "\u001b[0;31m---------------------------------------------------------------------------\u001b[0m",
      "\u001b[0;31mValueError\u001b[0m                                Traceback (most recent call last)",
      "\u001b[0;32m<ipython-input-4-3838d0c7fc97>\u001b[0m in \u001b[0;36m<module>\u001b[0;34m\u001b[0m\n\u001b[1;32m     54\u001b[0m \u001b[0;34m\u001b[0m\u001b[0m\n\u001b[1;32m     55\u001b[0m \u001b[0;32mif\u001b[0m \u001b[0m__name__\u001b[0m \u001b[0;34m==\u001b[0m \u001b[0;34m\"__main__\"\u001b[0m\u001b[0;34m:\u001b[0m\u001b[0;34m\u001b[0m\u001b[0;34m\u001b[0m\u001b[0m\n\u001b[0;32m---> 56\u001b[0;31m     \u001b[0mmain\u001b[0m\u001b[0;34m(\u001b[0m\u001b[0;34m)\u001b[0m\u001b[0;34m\u001b[0m\u001b[0;34m\u001b[0m\u001b[0m\n\u001b[0m\u001b[1;32m     57\u001b[0m \u001b[0;34m\u001b[0m\u001b[0m\n",
      "\u001b[0;32m<ipython-input-4-3838d0c7fc97>\u001b[0m in \u001b[0;36mmain\u001b[0;34m()\u001b[0m\n\u001b[1;32m     35\u001b[0m     \u001b[0mprint\u001b[0m\u001b[0;34m(\u001b[0m\u001b[0;34m\"enter the values of corresponding parameters: \"\u001b[0m\u001b[0;34m)\u001b[0m\u001b[0;34m\u001b[0m\u001b[0;34m\u001b[0m\u001b[0m\n\u001b[1;32m     36\u001b[0m     \u001b[0;32mfor\u001b[0m \u001b[0mi\u001b[0m \u001b[0;32min\u001b[0m \u001b[0mrange\u001b[0m\u001b[0;34m(\u001b[0m\u001b[0mn\u001b[0m\u001b[0;34m)\u001b[0m\u001b[0;34m:\u001b[0m\u001b[0;34m\u001b[0m\u001b[0;34m\u001b[0m\u001b[0m\n\u001b[0;32m---> 37\u001b[0;31m         \u001b[0my\u001b[0m\u001b[0;34m[\u001b[0m\u001b[0mi\u001b[0m\u001b[0;34m]\u001b[0m\u001b[0;34m[\u001b[0m\u001b[0;36m0\u001b[0m\u001b[0;34m]\u001b[0m \u001b[0;34m=\u001b[0m \u001b[0mfloat\u001b[0m\u001b[0;34m(\u001b[0m\u001b[0minput\u001b[0m\u001b[0;34m(\u001b[0m\u001b[0;34m)\u001b[0m\u001b[0;34m)\u001b[0m\u001b[0;34m\u001b[0m\u001b[0;34m\u001b[0m\u001b[0m\n\u001b[0m\u001b[1;32m     38\u001b[0m \u001b[0;34m\u001b[0m\u001b[0m\n\u001b[1;32m     39\u001b[0m     \u001b[0mvalue\u001b[0m \u001b[0;34m=\u001b[0m \u001b[0mint\u001b[0m\u001b[0;34m(\u001b[0m\u001b[0minput\u001b[0m\u001b[0;34m(\u001b[0m\u001b[0;34m\"enter the value to interpolate: \"\u001b[0m\u001b[0;34m)\u001b[0m\u001b[0;34m)\u001b[0m\u001b[0;34m\u001b[0m\u001b[0;34m\u001b[0m\u001b[0m\n",
      "\u001b[0;31mValueError\u001b[0m: could not convert string to float: ''"
     ]
    }
   ],
   "source": [
    "# https://www.geeksforgeeks.org/newton-forward-backward-interpolation/\n",
    "\n",
    "import math\n",
    "\n",
    "\n",
    "# for calculating u value\n",
    "def ucal(u, p):\n",
    "    \"\"\"\n",
    "    >>> ucal(1, 2)\n",
    "    0\n",
    "    >>> ucal(1.1, 2)\n",
    "    0.11000000000000011\n",
    "    >>> ucal(1.2, 2)\n",
    "    0.23999999999999994\n",
    "    \"\"\"\n",
    "    temp = u\n",
    "    for i in range(1, p):\n",
    "        temp = temp * (u - i)\n",
    "    return temp\n",
    "\n",
    "\n",
    "def main():\n",
    "    n = int(input(\"enter the numbers of values: \"))\n",
    "    y = []\n",
    "    for i in range(n):\n",
    "        y.append([])\n",
    "    for i in range(n):\n",
    "        for j in range(n):\n",
    "            y[i].append(j)\n",
    "            y[i][j] = 0\n",
    "\n",
    "    print(\"enter the values of parameters in a list: \")\n",
    "    x = list(map(int, input().split()))\n",
    "\n",
    "    print(\"enter the values of corresponding parameters: \")\n",
    "    for i in range(n):\n",
    "        y[i][0] = float(input())\n",
    "\n",
    "    value = int(input(\"enter the value to interpolate: \"))\n",
    "    u = (value - x[0]) / (x[1] - x[0])\n",
    "\n",
    "    # for calculating forward difference table\n",
    "\n",
    "    for i in range(1, n):\n",
    "        for j in range(n - i):\n",
    "            y[j][i] = y[j + 1][i - 1] - y[j][i - 1]\n",
    "\n",
    "    summ = y[0][0]\n",
    "    for i in range(1, n):\n",
    "        summ += (ucal(u, i) * y[0][i]) / math.factorial(i)\n",
    "\n",
    "    print(f\"the value at {value} is {summ}\")\n",
    "\n",
    "\n",
    "if __name__ == \"__main__\":\n",
    "    main()\n",
    "\n"
   ]
  },
  {
   "cell_type": "code",
   "execution_count": null,
   "metadata": {},
   "outputs": [],
   "source": []
  },
  {
   "cell_type": "code",
   "execution_count": null,
   "metadata": {},
   "outputs": [],
   "source": []
  }
 ],
 "metadata": {
  "kernelspec": {
   "display_name": "Python 3",
   "language": "python",
   "name": "python3"
  },
  "language_info": {
   "codemirror_mode": {
    "name": "ipython",
    "version": 3
   },
   "file_extension": ".py",
   "mimetype": "text/x-python",
   "name": "python",
   "nbconvert_exporter": "python",
   "pygments_lexer": "ipython3",
   "version": "3.8.3"
  }
 },
 "nbformat": 4,
 "nbformat_minor": 4
}
